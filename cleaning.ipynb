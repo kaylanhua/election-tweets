{
 "cells": [
  {
   "cell_type": "code",
   "execution_count": 58,
   "metadata": {},
   "outputs": [],
   "source": [
    "import pandas as pd\n",
    "from sklearn.feature_extraction.text import CountVectorizer, TfidfVectorizer\n",
    "from scipy.sparse import csr_matrix, diags\n",
    "\n",
    "# load data\n",
    "rawData = pd.read_csv(\"truth_seeker.csv\")"
   ]
  },
  {
   "cell_type": "code",
   "execution_count": 59,
   "metadata": {},
   "outputs": [],
   "source": [
    "rawData.rename(columns={'Unnamed: 0': 'ind'}, inplace=True)\n",
    "\n",
    "rawData.shape # (134198, 9)\n",
    "rawData.columns # 'ind', 'author', 'statement', 'target', 'BinaryNumTarget',\n",
    "    # 'manual_keywords', 'tweet', '5_label_majority_answer',\n",
    "    # '3_label_majority_answer'\n",
    "    \n",
    "# Randomly sample 1% of the rows in rawData\n",
    "smallData = rawData.sample(frac=0.01, random_state=42)\n",
    "rawData = smallData\n"
   ]
  },
  {
   "cell_type": "code",
   "execution_count": 60,
   "metadata": {},
   "outputs": [
    {
     "data": {
      "text/html": [
       "<div>\n",
       "<style scoped>\n",
       "    .dataframe tbody tr th:only-of-type {\n",
       "        vertical-align: middle;\n",
       "    }\n",
       "\n",
       "    .dataframe tbody tr th {\n",
       "        vertical-align: top;\n",
       "    }\n",
       "\n",
       "    .dataframe thead th {\n",
       "        text-align: right;\n",
       "    }\n",
       "</style>\n",
       "<table border=\"1\" class=\"dataframe\">\n",
       "  <thead>\n",
       "    <tr style=\"text-align: right;\">\n",
       "      <th></th>\n",
       "      <th>ind</th>\n",
       "      <th>author</th>\n",
       "      <th>statement</th>\n",
       "      <th>target</th>\n",
       "      <th>BinaryNumTarget</th>\n",
       "      <th>manual_keywords</th>\n",
       "      <th>tweet</th>\n",
       "      <th>5_label_majority_answer</th>\n",
       "      <th>3_label_majority_answer</th>\n",
       "    </tr>\n",
       "  </thead>\n",
       "  <tbody>\n",
       "    <tr>\n",
       "      <th>122451</th>\n",
       "      <td>122451</td>\n",
       "      <td>Daniel Funke</td>\n",
       "      <td>At 17 years old Kyle (Rittenhouse) was perfect...</td>\n",
       "      <td>False</td>\n",
       "      <td>0.0</td>\n",
       "      <td>Kyle,possess,rifle,legal</td>\n",
       "      <td>@fattycattie @robquinnpc @SammyTMcCarty @WCCO ...</td>\n",
       "      <td>Mostly Agree</td>\n",
       "      <td>Agree</td>\n",
       "    </tr>\n",
       "    <tr>\n",
       "      <th>14029</th>\n",
       "      <td>14029</td>\n",
       "      <td>Jill Terreri</td>\n",
       "      <td>\"I actually in 2005 ran on Medicare for all.\"</td>\n",
       "      <td>True</td>\n",
       "      <td>1.0</td>\n",
       "      <td>2005, ran on Medicare</td>\n",
       "      <td>never forget, Matt Santos ran on Medicare for ...</td>\n",
       "      <td>Mostly Agree</td>\n",
       "      <td>Agree</td>\n",
       "    </tr>\n",
       "    <tr>\n",
       "      <th>51449</th>\n",
       "      <td>51449</td>\n",
       "      <td>Miriam Valverde</td>\n",
       "      <td>COVID-19 vaccinations are a violation of the N...</td>\n",
       "      <td>False</td>\n",
       "      <td>0.0</td>\n",
       "      <td>vaccine,Nuremberg code,viloation</td>\n",
       "      <td>@BilldeBlasio You are mandating an experimenta...</td>\n",
       "      <td>NO MAJORITY</td>\n",
       "      <td>Agree</td>\n",
       "    </tr>\n",
       "    <tr>\n",
       "      <th>17981</th>\n",
       "      <td>17981</td>\n",
       "      <td>Manuela Tobias</td>\n",
       "      <td>\"You know what Amazon paid in federal income t...</td>\n",
       "      <td>True</td>\n",
       "      <td>1.0</td>\n",
       "      <td>Amazon, federal income taxes, zero</td>\n",
       "      <td>@SenSanders The working class is literally bei...</td>\n",
       "      <td>Mostly Agree</td>\n",
       "      <td>Agree</td>\n",
       "    </tr>\n",
       "    <tr>\n",
       "      <th>66284</th>\n",
       "      <td>66284</td>\n",
       "      <td>Julie Kliegman</td>\n",
       "      <td>\"Crimea became part of Ukraine only in 1954. C...</td>\n",
       "      <td>True</td>\n",
       "      <td>1.0</td>\n",
       "      <td>Crimea, historically, Russia</td>\n",
       "      <td>@PeterTong9 @timand2037 @ClimateAudit But none...</td>\n",
       "      <td>Mostly Agree</td>\n",
       "      <td>Agree</td>\n",
       "    </tr>\n",
       "  </tbody>\n",
       "</table>\n",
       "</div>"
      ],
      "text/plain": [
       "           ind           author  \\\n",
       "122451  122451     Daniel Funke   \n",
       "14029    14029     Jill Terreri   \n",
       "51449    51449  Miriam Valverde   \n",
       "17981    17981   Manuela Tobias   \n",
       "66284    66284   Julie Kliegman   \n",
       "\n",
       "                                                statement  target  \\\n",
       "122451  At 17 years old Kyle (Rittenhouse) was perfect...   False   \n",
       "14029       \"I actually in 2005 ran on Medicare for all.\"    True   \n",
       "51449   COVID-19 vaccinations are a violation of the N...   False   \n",
       "17981   \"You know what Amazon paid in federal income t...    True   \n",
       "66284   \"Crimea became part of Ukraine only in 1954. C...    True   \n",
       "\n",
       "        BinaryNumTarget                     manual_keywords  \\\n",
       "122451              0.0            Kyle,possess,rifle,legal   \n",
       "14029               1.0               2005, ran on Medicare   \n",
       "51449               0.0    vaccine,Nuremberg code,viloation   \n",
       "17981               1.0  Amazon, federal income taxes, zero   \n",
       "66284               1.0        Crimea, historically, Russia   \n",
       "\n",
       "                                                    tweet  \\\n",
       "122451  @fattycattie @robquinnpc @SammyTMcCarty @WCCO ...   \n",
       "14029   never forget, Matt Santos ran on Medicare for ...   \n",
       "51449   @BilldeBlasio You are mandating an experimenta...   \n",
       "17981   @SenSanders The working class is literally bei...   \n",
       "66284   @PeterTong9 @timand2037 @ClimateAudit But none...   \n",
       "\n",
       "       5_label_majority_answer 3_label_majority_answer  \n",
       "122451            Mostly Agree                   Agree  \n",
       "14029             Mostly Agree                   Agree  \n",
       "51449              NO MAJORITY                   Agree  \n",
       "17981             Mostly Agree                   Agree  \n",
       "66284             Mostly Agree                   Agree  "
      ]
     },
     "execution_count": 60,
     "metadata": {},
     "output_type": "execute_result"
    }
   ],
   "source": [
    "rawData.head()"
   ]
  },
  {
   "cell_type": "code",
   "execution_count": 61,
   "metadata": {},
   "outputs": [
    {
     "data": {
      "text/plain": [
       "outcome\n",
       "fake    673\n",
       "real    669\n",
       "Name: count, dtype: int64"
      ]
     },
     "execution_count": 61,
     "metadata": {},
     "output_type": "execute_result"
    }
   ],
   "source": [
    "def determine_outcome(row):\n",
    "    if (row['target'] == True and row['3_label_majority_answer'] == 'Agree') or (row['target'] == False and row['3_label_majority_answer'] == 'Disagree'):\n",
    "        return 'real'\n",
    "    elif (row['target'] == True and row['3_label_majority_answer'] == 'Disagree') or (row['target'] == False and row['3_label_majority_answer'] == 'Agree'):\n",
    "        return 'fake'\n",
    "    else:\n",
    "        return None\n",
    "\n",
    "rawData['outcome'] = rawData.apply(determine_outcome, axis=1)\n",
    "reshaped = rawData[rawData['outcome'].notnull()]\n",
    "reshaped['outcome'].value_counts() # fake: 65213, real: 68985"
   ]
  },
  {
   "cell_type": "code",
   "execution_count": 62,
   "metadata": {},
   "outputs": [],
   "source": [
    "topics_list = [topic.split('nn') for topic in reshaped['tweet'].astype(str)]\n",
    "topics_list = [[topic.replace('^.* -', '') for topic in topics] for topics in topics_list]\n",
    "topics_unique = sorted(set([item for sublist in topics_list for item in sublist]))\n"
   ]
  },
  {
   "cell_type": "code",
   "execution_count": 63,
   "metadata": {},
   "outputs": [],
   "source": [
    "# dummy matrix\n",
    "topics_dummies = [[topic in topics for topic in topics_unique] for topics in topics_list]\n",
    "topics_dummies = csr_matrix(topics_dummies)"
   ]
  },
  {
   "cell_type": "code",
   "execution_count": 64,
   "metadata": {},
   "outputs": [
    {
     "data": {
      "text/plain": [
       "(1342, 1531)"
      ]
     },
     "execution_count": 64,
     "metadata": {},
     "output_type": "execute_result"
    }
   ],
   "source": [
    "topics_dummies.shape "
   ]
  },
  {
   "cell_type": "code",
   "execution_count": 65,
   "metadata": {},
   "outputs": [],
   "source": [
    "# labelling for ease\n",
    "texts = {index: text for index, text in zip(rawData['ind'], rawData['tweet'])}"
   ]
  },
  {
   "cell_type": "code",
   "execution_count": 67,
   "metadata": {},
   "outputs": [],
   "source": [
    "# building corpus\n",
    "corpus = list(texts.values())\n",
    "\n",
    "# corpus cleaning\n",
    "vectorizer = CountVectorizer(strip_accents='unicode', stop_words='english', lowercase=True, token_pattern=r'\\b[a-zA-Z]{3,}\\b')\n",
    "dtm_slam = vectorizer.fit_transform(corpus)"
   ]
  },
  {
   "cell_type": "code",
   "execution_count": 68,
   "metadata": {},
   "outputs": [],
   "source": [
    "# row names\n",
    "dtm_slam.index = rawData['ind']"
   ]
  },
  {
   "cell_type": "code",
   "execution_count": 70,
   "metadata": {},
   "outputs": [
    {
     "data": {
      "text/plain": [
       "(1342, 1895)"
      ]
     },
     "execution_count": 70,
     "metadata": {},
     "output_type": "execute_result"
    }
   ],
   "source": [
    "# dropping terms that occur in <3 documents\n",
    "drop = dtm_slam.sum(axis=0).A1 < 3\n",
    "dtm_slam = dtm_slam[:, ~drop]\n",
    "\n",
    "dtm_slam.shape"
   ]
  },
  {
   "cell_type": "code",
   "execution_count": 71,
   "metadata": {},
   "outputs": [],
   "source": [
    "# converting to sparse matrix for memory/performance\n",
    "dtm = csr_matrix(dtm_slam)"
   ]
  },
  {
   "cell_type": "code",
   "execution_count": 73,
   "metadata": {},
   "outputs": [],
   "source": [
    "# normalizing (preferred)\n",
    "dtm_norm = diags(1 / dtm.sum(axis=1).A1) @ dtm\n",
    "dtm_norm.index = rawData['ind']"
   ]
  },
  {
   "cell_type": "code",
   "execution_count": 74,
   "metadata": {},
   "outputs": [
    {
     "name": "stdout",
     "output_type": "stream",
     "text": [
      "DTM:\n",
      "Mean entry: 0.0005277044854881266\n",
      "Dimensions: (1342, 1895)\n"
     ]
    }
   ],
   "source": [
    "# summary statistics\n",
    "print(\"DTM:\")\n",
    "print(f\"Mean entry: {dtm_norm.mean()}\")\n",
    "print(f\"Dimensions: {dtm_norm.shape}\")"
   ]
  }
 ],
 "metadata": {
  "kernelspec": {
   "display_name": "electiont",
   "language": "python",
   "name": "python3"
  },
  "language_info": {
   "codemirror_mode": {
    "name": "ipython",
    "version": 3
   },
   "file_extension": ".py",
   "mimetype": "text/x-python",
   "name": "python",
   "nbconvert_exporter": "python",
   "pygments_lexer": "ipython3",
   "version": "3.12.3"
  }
 },
 "nbformat": 4,
 "nbformat_minor": 2
}
