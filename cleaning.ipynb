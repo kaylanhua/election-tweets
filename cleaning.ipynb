{
 "cells": [
  {
   "cell_type": "code",
   "execution_count": 97,
   "metadata": {},
   "outputs": [],
   "source": [
    "import pandas as pd\n",
    "from sklearn.feature_extraction.text import CountVectorizer, TfidfVectorizer\n",
    "from scipy.sparse import csr_matrix, diags\n",
    "\n"
   ]
  },
  {
   "cell_type": "code",
   "execution_count": 156,
   "metadata": {},
   "outputs": [
    {
     "data": {
      "text/plain": [
       "Index(['ind', 'author', 'statement', 'target', 'BinaryNumTarget',\n",
       "       'manual_keywords', 'tweet', '5_label_majority_answer',\n",
       "       '3_label_majority_answer'],\n",
       "      dtype='object')"
      ]
     },
     "execution_count": 156,
     "metadata": {},
     "output_type": "execute_result"
    }
   ],
   "source": [
    "# load data\n",
    "rawData = pd.read_csv(\"truth_seeker.csv\")\n",
    "\n",
    "rawData.rename(columns={'Unnamed: 0': 'ind'}, inplace=True)\n",
    "\n",
    "rawData.shape # (134198, 9)\n",
    "rawData.columns # 'ind', 'author', 'statement', 'target', 'BinaryNumTarget',\n",
    "    # 'manual_keywords', 'tweet', '5_label_majority_answer',\n",
    "    # '3_label_majority_answer'\n",
    "    \n"
   ]
  },
  {
   "cell_type": "code",
   "execution_count": 158,
   "metadata": {},
   "outputs": [
    {
     "data": {
      "text/plain": [
       "outcome\n",
       "real    698\n",
       "fake    644\n",
       "Name: count, dtype: int64"
      ]
     },
     "execution_count": 158,
     "metadata": {},
     "output_type": "execute_result"
    }
   ],
   "source": [
    "def determine_outcome(row):\n",
    "    if (row['target'] == True and row['3_label_majority_answer'] == 'Agree') or (row['target'] == False and row['3_label_majority_answer'] == 'Disagree'):\n",
    "        return 'real'\n",
    "    elif (row['target'] == True and row['3_label_majority_answer'] == 'Disagree') or (row['target'] == False and row['3_label_majority_answer'] == 'Agree'):\n",
    "        return 'fake'\n",
    "    else:\n",
    "        return None\n",
    "\n",
    "rawData['outcome'] = rawData.apply(determine_outcome, axis=1)\n",
    "smallData = rawData.sample(frac=0.01, random_state=40)\n",
    "reshaped = smallData[smallData['outcome'].notnull()]\n",
    "reshaped['outcome'].value_counts() # fake: 65213, real: 68985"
   ]
  },
  {
   "cell_type": "code",
   "execution_count": 159,
   "metadata": {},
   "outputs": [],
   "source": [
    "newTweets = pd.read_csv(\"new_tweets.csv\")\n",
    "\n",
    "subset_data_without_new = reshaped.copy()\n",
    "\n",
    "newTweets['3_label_majority_answer'] = newTweets['3_label_majority_answer'].astype(str)\n",
    "\n",
    "subset_data = pd.concat([reshaped, newTweets], ignore_index=True)"
   ]
  },
  {
   "cell_type": "code",
   "execution_count": 160,
   "metadata": {},
   "outputs": [
    {
     "data": {
      "text/plain": [
       "(1485, 16)"
      ]
     },
     "execution_count": 160,
     "metadata": {},
     "output_type": "execute_result"
    }
   ],
   "source": [
    "subset_data.shape # (1485, 16)"
   ]
  },
  {
   "cell_type": "code",
   "execution_count": 161,
   "metadata": {},
   "outputs": [],
   "source": [
    "topics_list = [topic.split('nn') for topic in subset_data['tweet'].astype(str)]\n",
    "topics_list = [[topic.replace('^.* -', '') for topic in topics] for topics in topics_list]\n",
    "topics_unique = sorted(set([item for sublist in topics_list for item in sublist]))\n"
   ]
  },
  {
   "cell_type": "code",
   "execution_count": 162,
   "metadata": {},
   "outputs": [],
   "source": [
    "# dummy matrix\n",
    "topics_dummies = [[topic in topics for topic in topics_unique] for topics in topics_list]\n",
    "topics_dummies = csr_matrix(topics_dummies)"
   ]
  },
  {
   "cell_type": "code",
   "execution_count": 163,
   "metadata": {},
   "outputs": [
    {
     "data": {
      "text/plain": [
       "(1485, 1725)"
      ]
     },
     "execution_count": 163,
     "metadata": {},
     "output_type": "execute_result"
    }
   ],
   "source": [
    "topics_dummies.shape # (1485, 1725)"
   ]
  },
  {
   "cell_type": "code",
   "execution_count": 164,
   "metadata": {},
   "outputs": [],
   "source": [
    "# labelling for ease\n",
    "texts = {index: text for index, text in zip(subset_data['ind'], subset_data['tweet'])}"
   ]
  },
  {
   "cell_type": "code",
   "execution_count": 165,
   "metadata": {},
   "outputs": [],
   "source": [
    "# building corpus\n",
    "corpus = list(texts.values())\n",
    "\n",
    "# corpus cleaning\n",
    "vectorizer = CountVectorizer(strip_accents='unicode', stop_words='english', lowercase=True, token_pattern=r'\\b[a-zA-Z]{3,}\\b')\n",
    "dtm_slam = vectorizer.fit_transform(corpus)"
   ]
  },
  {
   "cell_type": "code",
   "execution_count": 166,
   "metadata": {},
   "outputs": [],
   "source": [
    "# row names\n",
    "dtm_slam.index = subset_data['ind']"
   ]
  },
  {
   "cell_type": "code",
   "execution_count": 167,
   "metadata": {},
   "outputs": [
    {
     "data": {
      "text/plain": [
       "(1485, 2074)"
      ]
     },
     "execution_count": 167,
     "metadata": {},
     "output_type": "execute_result"
    }
   ],
   "source": [
    "# dropping terms that occur in <3 documents\n",
    "drop = dtm_slam.sum(axis=0).A1 < 3\n",
    "dtm_slam = dtm_slam[:, ~drop]\n",
    "\n",
    "dtm_slam.shape"
   ]
  },
  {
   "cell_type": "code",
   "execution_count": 168,
   "metadata": {},
   "outputs": [],
   "source": [
    "# converting to sparse matrix for memory/performance\n",
    "dtm = csr_matrix(dtm_slam)"
   ]
  },
  {
   "cell_type": "code",
   "execution_count": 169,
   "metadata": {},
   "outputs": [],
   "source": [
    "# normalizing (preferred)\n",
    "dtm_norm = diags(1 / dtm.sum(axis=1).A1) @ dtm\n",
    "dtm_norm.index = subset_data['ind']"
   ]
  },
  {
   "cell_type": "code",
   "execution_count": 170,
   "metadata": {},
   "outputs": [
    {
     "name": "stdout",
     "output_type": "stream",
     "text": [
      "DTM:\n",
      "Mean entry: 0.00048216007714561236\n",
      "Dimensions: (1485, 2074)\n"
     ]
    }
   ],
   "source": [
    "# summary statistics\n",
    "print(\"DTM:\")\n",
    "print(f\"Mean entry: {dtm_norm.mean()}\")\n",
    "print(f\"Dimensions: {dtm_norm.shape}\")"
   ]
  },
  {
   "cell_type": "code",
   "execution_count": 171,
   "metadata": {},
   "outputs": [
    {
     "data": {
      "text/plain": [
       "(1342, 2074)"
      ]
     },
     "execution_count": 171,
     "metadata": {},
     "output_type": "execute_result"
    }
   ],
   "source": [
    "subset_data_without_new = reshaped.copy()\n",
    "train_dtm = dtm[dtm_norm.index.isin(subset_data_without_new['ind'])]\n",
    "train_dtm.shape # (1485, 1725)"
   ]
  },
  {
   "cell_type": "code",
   "execution_count": 172,
   "metadata": {},
   "outputs": [],
   "source": [
    "subset_row_names = subset_data_without_new['ind'].astype(str)\n",
    "new_dtm = dtm[~dtm_norm.index.isin(subset_data_without_new['ind'])]"
   ]
  },
  {
   "cell_type": "code",
   "execution_count": 173,
   "metadata": {},
   "outputs": [
    {
     "data": {
      "text/plain": [
       "(143, 2074)"
      ]
     },
     "execution_count": 173,
     "metadata": {},
     "output_type": "execute_result"
    }
   ],
   "source": [
    "new_dtm.shape # (143, 1725)"
   ]
  },
  {
   "cell_type": "code",
   "execution_count": 175,
   "metadata": {},
   "outputs": [
    {
     "name": "stdout",
     "output_type": "stream",
     "text": [
      "Full original data set proportion fake: 0.4859461392867256\n",
      "Full original data set proportion real: 0.5140538607132744\n"
     ]
    }
   ],
   "source": [
    "label_counts = rawData['outcome'].value_counts()\n",
    "\n",
    "proportion_fake = label_counts['fake'] / label_counts.sum()\n",
    "proportion_real = label_counts['real'] / label_counts.sum()\n",
    "\n",
    "print(f\"Full original data set proportion fake: {proportion_fake}\")\n",
    "print(f\"Full original data set proportion real: {proportion_real}\")"
   ]
  },
  {
   "cell_type": "code",
   "execution_count": 177,
   "metadata": {},
   "outputs": [
    {
     "name": "stdout",
     "output_type": "stream",
     "text": [
      "Training data set proportion fake: 0.4855218855218855\n",
      "Training data set proportion real: 0.5144781144781144\n"
     ]
    }
   ],
   "source": [
    "training_label_counts = subset_data['outcome'].value_counts()\n",
    "training_prop_fake = training_label_counts['fake'] / training_label_counts.sum()\n",
    "training_prop_real = training_label_counts['real'] / training_label_counts.sum()\n",
    "\n",
    "print(f\"Training data set proportion fake: {training_prop_fake}\")\n",
    "print(f\"Training data set proportion real: {training_prop_real}\")"
   ]
  },
  {
   "cell_type": "code",
   "execution_count": 178,
   "metadata": {},
   "outputs": [
    {
     "name": "stdout",
     "output_type": "stream",
     "text": [
      "New data set proportion fake: 0.5384615384615384\n",
      "New data set proportion real: 0.46153846153846156\n"
     ]
    }
   ],
   "source": [
    "new_label_counts = newTweets['outcome'].value_counts()\n",
    "new_prop_fake = new_label_counts['fake'] / new_label_counts.sum()\n",
    "new_prop_real = new_label_counts['real'] / new_label_counts.sum()\n",
    "\n",
    "print(f\"New data set proportion fake: {new_prop_fake}\")\n",
    "print(f\"New data set proportion real: {new_prop_real}\")"
   ]
  },
  {
   "cell_type": "code",
   "execution_count": null,
   "metadata": {},
   "outputs": [],
   "source": []
  },
  {
   "cell_type": "markdown",
   "metadata": {},
   "source": [
    "# done w preprocessing"
   ]
  },
  {
   "cell_type": "code",
   "execution_count": 179,
   "metadata": {},
   "outputs": [],
   "source": [
    "import numpy as np\n",
    "from scipy.sparse import diags\n",
    "np.random.seed(2024)\n"
   ]
  },
  {
   "cell_type": "code",
   "execution_count": 181,
   "metadata": {},
   "outputs": [],
   "source": [
    "norm_train_dtm = diags(1 / train_dtm.sum(axis=1).A1) @ train_dtm\n",
    "norm_train_dtm.index = subset_data_without_new['ind']\n",
    "train_dtm = norm_train_dtm\n"
   ]
  },
  {
   "cell_type": "code",
   "execution_count": 183,
   "metadata": {},
   "outputs": [
    {
     "name": "stdout",
     "output_type": "stream",
     "text": [
      "(1074, 2074)\n",
      "(268, 2074)\n"
     ]
    }
   ],
   "source": [
    "\n",
    "# split into train and test datasets\n",
    "total_documents = train_dtm.shape[0]\n",
    "train_size = round(0.8 * total_documents)\n",
    "test_size = total_documents - train_size\n",
    "\n",
    "train_indices = np.random.choice(total_documents, train_size, replace=False)\n",
    "dtm_train = train_dtm[train_indices]\n",
    "\n",
    "test_indices = np.setdiff1d(np.arange(total_documents), train_indices)\n",
    "dtm_test = train_dtm[test_indices]\n",
    "\n",
    "print(dtm_train.shape)\n",
    "print(dtm_test.shape)"
   ]
  },
  {
   "cell_type": "code",
   "execution_count": 186,
   "metadata": {},
   "outputs": [],
   "source": [
    "train_doc_ids = train_indices.tolist()\n",
    "test_doc_ids = test_indices.tolist()\n",
    "\n",
    "# actual classification for training data\n",
    "train_rows = rawData.loc[train_doc_ids]\n",
    "test_rows = rawData.loc[test_doc_ids]"
   ]
  },
  {
   "cell_type": "code",
   "execution_count": 189,
   "metadata": {},
   "outputs": [],
   "source": [
    "train_actual_classifications = rawData.loc[train_doc_ids].copy()\n",
    "train_actual_classifications['outcome'] = train_actual_classifications['outcome'].map({'fake': 0, 'real': 1})\n",
    "train_actual_classifications = train_actual_classifications['outcome'].values"
   ]
  },
  {
   "cell_type": "code",
   "execution_count": 198,
   "metadata": {},
   "outputs": [],
   "source": [
    "X = dtm_train.toarray()\n",
    "y = train_actual_classifications"
   ]
  },
  {
   "cell_type": "code",
   "execution_count": 199,
   "metadata": {},
   "outputs": [],
   "source": [
    "# true classification for TRUTHSEEKERS test data\n",
    "test_actual_classifications = rawData.loc[test_doc_ids].copy()\n",
    "test_actual_classifications['outcome'] = test_actual_classifications['outcome'].map({'fake': 0, 'real': 1})\n",
    "test_actual_classifications = test_actual_classifications['outcome'].values"
   ]
  },
  {
   "cell_type": "code",
   "execution_count": 200,
   "metadata": {},
   "outputs": [],
   "source": [
    "\n",
    "X_test = dtm_test.toarray()\n",
    "y_test = test_actual_classifications"
   ]
  },
  {
   "cell_type": "code",
   "execution_count": 201,
   "metadata": {},
   "outputs": [],
   "source": [
    "# true classification for newTweets data\n",
    "newTweets_classifications = newTweets.copy()\n",
    "newTweets_classifications['outcome'] = newTweets_classifications['outcome'].map({'fake': 0, 'real': 1})\n",
    "newTweets_classifications = newTweets_classifications['outcome'].values\n",
    "\n",
    "X_newTweets = new_dtm.toarray()\n",
    "y_newTweets = newTweets_classifications"
   ]
  }
 ],
 "metadata": {
  "kernelspec": {
   "display_name": "electiont",
   "language": "python",
   "name": "python3"
  },
  "language_info": {
   "codemirror_mode": {
    "name": "ipython",
    "version": 3
   },
   "file_extension": ".py",
   "mimetype": "text/x-python",
   "name": "python",
   "nbconvert_exporter": "python",
   "pygments_lexer": "ipython3",
   "version": "3.12.3"
  }
 },
 "nbformat": 4,
 "nbformat_minor": 2
}
